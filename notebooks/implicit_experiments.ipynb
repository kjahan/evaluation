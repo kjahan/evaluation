{
 "cells": [
  {
   "cell_type": "code",
   "execution_count": 1,
   "metadata": {},
   "outputs": [],
   "source": [
    "import argparse\n",
    "import codecs\n",
    "import logging\n",
    "import time\n",
    "\n",
    "import numpy as np\n",
    "from scipy.sparse import coo_matrix, csr_matrix\n",
    "import tqdm\n",
    "\n",
    "from implicit.als import AlternatingLeastSquares\n",
    "from implicit.approximate_als import (\n",
    "    AnnoyAlternatingLeastSquares,\n",
    "    FaissAlternatingLeastSquares,\n",
    "    NMSLibAlternatingLeastSquares,\n",
    ")\n",
    "from implicit.bpr import BayesianPersonalizedRanking\n",
    "from implicit.datasets.lastfm import get_lastfm\n",
    "from implicit.lmf import LogisticMatrixFactorization\n",
    "from implicit.nearest_neighbours import (\n",
    "    BM25Recommender,\n",
    "    CosineRecommender,\n",
    "    TFIDFRecommender,\n",
    "    bm25_weight,\n",
    ")"
   ]
  },
  {
   "cell_type": "code",
   "execution_count": 2,
   "metadata": {},
   "outputs": [],
   "source": [
    "# maps command line model argument to class name\n",
    "MODELS = {\n",
    "    \"als\": AlternatingLeastSquares,\n",
    "    \"nmslib_als\": NMSLibAlternatingLeastSquares,\n",
    "    \"annoy_als\": AnnoyAlternatingLeastSquares,\n",
    "    \"faiss_als\": FaissAlternatingLeastSquares,\n",
    "    \"tfidf\": TFIDFRecommender,\n",
    "    \"cosine\": CosineRecommender,\n",
    "    \"bpr\": BayesianPersonalizedRanking,\n",
    "    \"lmf\": LogisticMatrixFactorization,\n",
    "    \"bm25\": BM25Recommender,\n",
    "}"
   ]
  },
  {
   "cell_type": "code",
   "execution_count": 3,
   "metadata": {},
   "outputs": [],
   "source": [
    "def get_model(model_name):\n",
    "    print(\"getting model %s\" % model_name)\n",
    "    model_class = MODELS.get(model_name)\n",
    "    if not model_class:\n",
    "        raise ValueError(\"Unknown Model '%s'\" % model_name)\n",
    "\n",
    "    # some default params\n",
    "    if model_name.endswith(\"als\"):\n",
    "        params = {\"factors\": 64, \"dtype\": np.float32}\n",
    "    elif model_name == \"bm25\":\n",
    "        params = {\"K1\": 100, \"B\": 0.5}\n",
    "    elif model_name == \"bpr\":\n",
    "        params = {\"factors\": 63}\n",
    "    elif model_name == \"lmf\":\n",
    "        params = {\"factors\": 30, \"iterations\": 40, \"regularization\": 1.5}\n",
    "    else:\n",
    "        params = {}\n",
    "\n",
    "    return model_class(**params)"
   ]
  },
  {
   "cell_type": "markdown",
   "metadata": {},
   "source": [
    "# Download data from Movielens website\n",
    "https://grouplens.org/datasets/movielens/20m/"
   ]
  },
  {
   "cell_type": "code",
   "execution_count": 5,
   "metadata": {},
   "outputs": [],
   "source": [
    "import pandas as pd\n",
    "import os\n",
    "from datetime import datetime\n",
    "\n",
    "\n",
    "import sys\n",
    "sys.path.append(\"/Users/jahan/workspace/evaluation/src/\")\n",
    "import dataset\n",
    "import metrics\n",
    "\n",
    "data_path = \"../datasets/ml-20m/\""
   ]
  },
  {
   "cell_type": "markdown",
   "metadata": {},
   "source": [
    "## Load dataset"
   ]
  },
  {
   "cell_type": "code",
   "execution_count": 7,
   "metadata": {},
   "outputs": [
    {
     "data": {
      "text/html": [
       "<div>\n",
       "<style scoped>\n",
       "    .dataframe tbody tr th:only-of-type {\n",
       "        vertical-align: middle;\n",
       "    }\n",
       "\n",
       "    .dataframe tbody tr th {\n",
       "        vertical-align: top;\n",
       "    }\n",
       "\n",
       "    .dataframe thead th {\n",
       "        text-align: right;\n",
       "    }\n",
       "</style>\n",
       "<table border=\"1\" class=\"dataframe\">\n",
       "  <thead>\n",
       "    <tr style=\"text-align: right;\">\n",
       "      <th></th>\n",
       "      <th>user_id</th>\n",
       "      <th>item_id</th>\n",
       "      <th>rating</th>\n",
       "      <th>datetime</th>\n",
       "    </tr>\n",
       "  </thead>\n",
       "  <tbody>\n",
       "    <tr>\n",
       "      <th>0</th>\n",
       "      <td>1</td>\n",
       "      <td>2</td>\n",
       "      <td>3.5</td>\n",
       "      <td>2005-04-02 23:53:47</td>\n",
       "    </tr>\n",
       "    <tr>\n",
       "      <th>1</th>\n",
       "      <td>1</td>\n",
       "      <td>29</td>\n",
       "      <td>3.5</td>\n",
       "      <td>2005-04-02 23:31:16</td>\n",
       "    </tr>\n",
       "    <tr>\n",
       "      <th>2</th>\n",
       "      <td>1</td>\n",
       "      <td>32</td>\n",
       "      <td>3.5</td>\n",
       "      <td>2005-04-02 23:33:39</td>\n",
       "    </tr>\n",
       "    <tr>\n",
       "      <th>3</th>\n",
       "      <td>1</td>\n",
       "      <td>47</td>\n",
       "      <td>3.5</td>\n",
       "      <td>2005-04-02 23:32:07</td>\n",
       "    </tr>\n",
       "    <tr>\n",
       "      <th>4</th>\n",
       "      <td>1</td>\n",
       "      <td>50</td>\n",
       "      <td>3.5</td>\n",
       "      <td>2005-04-02 23:29:40</td>\n",
       "    </tr>\n",
       "  </tbody>\n",
       "</table>\n",
       "</div>"
      ],
      "text/plain": [
       "   user_id  item_id  rating            datetime\n",
       "0        1        2     3.5 2005-04-02 23:53:47\n",
       "1        1       29     3.5 2005-04-02 23:31:16\n",
       "2        1       32     3.5 2005-04-02 23:33:39\n",
       "3        1       47     3.5 2005-04-02 23:32:07\n",
       "4        1       50     3.5 2005-04-02 23:29:40"
      ]
     },
     "execution_count": 7,
     "metadata": {},
     "output_type": "execute_result"
    }
   ],
   "source": [
    "ratings_ = dataset.load(\"ratings.csv\", path=data_path, delim=',')\n",
    "ratings = dataset.parse_timestamp(ratings_)\n",
    "# rename ratings columns\n",
    "ratings = ratings.rename(columns={\"userId\": \"user_id\", \"movieId\": \"item_id\", \"rating\": \"rating\",  \"datetime\": \"datetime\"})\n",
    "ratings.head(5)"
   ]
  },
  {
   "cell_type": "markdown",
   "metadata": {},
   "source": [
    "## Movielense data stats"
   ]
  },
  {
   "cell_type": "code",
   "execution_count": 8,
   "metadata": {},
   "outputs": [
    {
     "name": "stdout",
     "output_type": "stream",
     "text": [
      "ratings columns: Index(['userId', 'movieId', 'rating', 'timestamp', 'datetime'], dtype='object')\n",
      "No of rows in ratings df: 20000263\n",
      "Min datetime: 1995-01-09 11:46:44, max datetime: 2015-03-31 06:40:02\n"
     ]
    }
   ],
   "source": [
    "print(\"ratings columns: {}\".format(ratings.columns))\n",
    "print(\"No of rows in ratings df: {}\".format(ratings.shape[0]))\n",
    "print(\"Min datetime: {}, max datetime: {}\".format(ratings[\"datetime\"].min(), \n",
    "                                                  ratings[\"datetime\"].max()))"
   ]
  },
  {
   "cell_type": "code",
   "execution_count": 8,
   "metadata": {},
   "outputs": [
    {
     "name": "stderr",
     "output_type": "stream",
     "text": [
      "//anaconda/envs/recom/lib/python3.6/site-packages/ipykernel_launcher.py:3: FutureWarning: The pandas.datetime class is deprecated and will be removed from pandas in a future version. Import from datetime instead.\n",
      "  This is separate from the ipykernel package so we can avoid doing imports until\n"
     ]
    }
   ],
   "source": [
    "# use the last 30 days as test and anything prior as train dataset \n",
    "split_date = \"2015-03-01 06:40:02.000000\"\n",
    "split_time = pd.datetime.strptime(split_date, '%Y-%m-%d %H:%M:%S.%f')"
   ]
  },
  {
   "cell_type": "code",
   "execution_count": 9,
   "metadata": {},
   "outputs": [
    {
     "data": {
      "text/plain": [
       "user_id              int64\n",
       "item_id              int64\n",
       "rating             float64\n",
       "datetime    datetime64[ns]\n",
       "dtype: object"
      ]
     },
     "execution_count": 9,
     "metadata": {},
     "output_type": "execute_result"
    }
   ],
   "source": [
    "ratings.dtypes"
   ]
  },
  {
   "cell_type": "markdown",
   "metadata": {},
   "source": [
    "## Split train/test dataset"
   ]
  },
  {
   "cell_type": "code",
   "execution_count": 10,
   "metadata": {},
   "outputs": [
    {
     "name": "stdout",
     "output_type": "stream",
     "text": [
      "Size of train dataset: 19914017 & size of test dataset: 86246\n"
     ]
    }
   ],
   "source": [
    "train_df, test_df = dataset.split(ratings, split_time)\n",
    "print(\"Size of train dataset: {} & size of test dataset: {}\".format(train_df.shape[0], test_df.shape[0]))"
   ]
  },
  {
   "cell_type": "markdown",
   "metadata": {},
   "source": [
    "## Train implicit"
   ]
  },
  {
   "cell_type": "code",
   "execution_count": 12,
   "metadata": {},
   "outputs": [
    {
     "name": "stderr",
     "output_type": "stream",
     "text": [
      "//anaconda/envs/recom/lib/python3.6/site-packages/ipykernel_launcher.py:2: SettingWithCopyWarning: \n",
      "A value is trying to be set on a copy of a slice from a DataFrame.\n",
      "Try using .loc[row_indexer,col_indexer] = value instead\n",
      "\n",
      "See the caveats in the documentation: https://pandas.pydata.org/pandas-docs/stable/user_guide/indexing.html#returning-a-view-versus-a-copy\n",
      "  \n",
      "//anaconda/envs/recom/lib/python3.6/site-packages/ipykernel_launcher.py:3: SettingWithCopyWarning: \n",
      "A value is trying to be set on a copy of a slice from a DataFrame.\n",
      "Try using .loc[row_indexer,col_indexer] = value instead\n",
      "\n",
      "See the caveats in the documentation: https://pandas.pydata.org/pandas-docs/stable/user_guide/indexing.html#returning-a-view-versus-a-copy\n",
      "  This is separate from the ipykernel package so we can avoid doing imports until\n"
     ]
    }
   ],
   "source": [
    "# map each user/movie to a unique numeric value\n",
    "train_df['user_id'] = train_df['user_id'].astype(\"category\")\n",
    "train_df['item_id'] = train_df['item_id'].astype(\"category\")\n",
    "\n",
    "ratings_csr = coo_matrix((train_df['rating'].astype(np.float32), \n",
    "                         (train_df['item_id'].cat.codes.copy(), \n",
    "                          train_df['user_id'].cat.codes.copy()))).tocsr()"
   ]
  },
  {
   "cell_type": "code",
   "execution_count": 13,
   "metadata": {},
   "outputs": [],
   "source": [
    "items = np.array(train_df['item_id'].cat.categories)\n",
    "users = np.array(train_df['user_id'].cat.categories)\n",
    "ratings = ratings_csr"
   ]
  },
  {
   "cell_type": "code",
   "execution_count": 14,
   "metadata": {},
   "outputs": [],
   "source": [
    "min_rating = 4.0\n",
    "# remove things < min_rating, and convert to implicit dataset\n",
    "# by considering ratings as a binary preference only\n",
    "ratings.data[ratings.data < min_rating] = 0\n",
    "ratings.eliminate_zeros()\n",
    "ratings.data = np.ones(len(ratings.data))"
   ]
  },
  {
   "cell_type": "code",
   "execution_count": 15,
   "metadata": {},
   "outputs": [
    {
     "name": "stderr",
     "output_type": "stream",
     "text": [
      "WARNING:root:Intel MKL BLAS detected. Its highly recommend to set the environment variable 'export MKL_NUM_THREADS=1' to disable its internal multithreading\n"
     ]
    }
   ],
   "source": [
    "model = AlternatingLeastSquares()\n",
    "# lets weight these models by bm25weight.\n",
    "ratings = (bm25_weight(ratings, B=0.9) * 5).tocsr()"
   ]
  },
  {
   "cell_type": "code",
   "execution_count": 16,
   "metadata": {},
   "outputs": [
    {
     "data": {
      "application/vnd.jupyter.widget-view+json": {
       "model_id": "21b02875573c4795984958e00dde7cea",
       "version_major": 2,
       "version_minor": 0
      },
      "text/plain": [
       "HBox(children=(HTML(value=''), FloatProgress(value=0.0, max=15.0), HTML(value='')))"
      ]
     },
     "metadata": {},
     "output_type": "display_data"
    },
    {
     "name": "stdout",
     "output_type": "stream",
     "text": [
      "\n",
      "Training time: 198.75464391708374\n"
     ]
    }
   ],
   "source": [
    "# train the model\n",
    "start = time.time()\n",
    "model.fit(ratings)\n",
    "print(\"Training time: {}\".format(time.time() - start))"
   ]
  },
  {
   "cell_type": "markdown",
   "metadata": {},
   "source": [
    "## Generate ground truth"
   ]
  },
  {
   "cell_type": "code",
   "execution_count": 17,
   "metadata": {},
   "outputs": [
    {
     "name": "stderr",
     "output_type": "stream",
     "text": [
      "100%|██████████| 86246/86246 [00:13<00:00, 6317.85it/s]"
     ]
    },
    {
     "name": "stdout",
     "output_type": "stream",
     "text": [
      "No of users in test fold: 2056\n"
     ]
    },
    {
     "name": "stderr",
     "output_type": "stream",
     "text": [
      "\n"
     ]
    }
   ],
   "source": [
    "user_labels = dataset.generate_true_labels(test_df)"
   ]
  },
  {
   "cell_type": "code",
   "execution_count": 18,
   "metadata": {},
   "outputs": [],
   "source": [
    "# generate a map from train username to their user ids\n",
    "train_users_dict = dict(enumerate(users.flatten(), 0))\n",
    "training_ds = items, users, ratings"
   ]
  },
  {
   "cell_type": "markdown",
   "metadata": {},
   "source": [
    "## Generate user recs for test users"
   ]
  },
  {
   "cell_type": "code",
   "execution_count": 19,
   "metadata": {},
   "outputs": [],
   "source": [
    "def generate_user_recommendations(model, user_labels, train_username_to_id_map, training_ds):\n",
    "    items, users, ratings = training_ds\n",
    "    user_ratings = ratings.T.tocsr()\n",
    "    user_recommendations = {}\n",
    "    N = 10\n",
    "    with tqdm.tqdm(total=len(user_labels)) as progress:\n",
    "        for username in user_labels.keys():\n",
    "            try:\n",
    "                user_id = train_username_to_id_map[username]\n",
    "                recomms_ = model.recommend(user_id, user_ratings, N)\n",
    "                recomms = [(int(items[item_id]), score) for item_id, score in recomms_]\n",
    "                user_recommendations[username] = recomms\n",
    "            except:\n",
    "                continue\n",
    "            progress.update(1)\n",
    "    return user_recommendations"
   ]
  },
  {
   "cell_type": "code",
   "execution_count": 20,
   "metadata": {},
   "outputs": [
    {
     "name": "stderr",
     "output_type": "stream",
     "text": [
      " 99%|█████████▉| 2042/2056 [00:03<00:00, 602.59it/s]\n"
     ]
    }
   ],
   "source": [
    "user_recommendations = generate_user_recommendations(model, user_labels, train_users_dict, training_ds)"
   ]
  },
  {
   "cell_type": "markdown",
   "metadata": {},
   "source": [
    "## Compute recos metrics"
   ]
  },
  {
   "cell_type": "code",
   "execution_count": 27,
   "metadata": {},
   "outputs": [],
   "source": [
    "def compute_metrics(user_recommendations, user_labels, k):\n",
    "    sum_p_at_k, sum_recall_at_k = 0, 0\n",
    "    users_no, cold_start_users = 0, 0\n",
    "    with tqdm.tqdm(total=len(user_labels)) as progress:\n",
    "        for username, actual_items_seen in user_labels.items():\n",
    "            if username in user_recommendations:\n",
    "                # grab only the top k recommended items for evaluation\n",
    "                recommended_items = [item[0] for item in user_recommendations[username][:k]]\n",
    "                # compute p@k\n",
    "                sum_p_at_k += len(set(recommended_items) & set(actual_items_seen))/k\n",
    "                sum_recall_at_k += len(set(recommended_items) & set(actual_items_seen))/len(actual_items_seen)\n",
    "                users_no += 1\n",
    "            else:\n",
    "                cold_start_users += 1\n",
    "                continue\n",
    "            progress.update(1)\n",
    "    # compute avg p@k\n",
    "    avg_p_at_k = sum_p_at_k/users_no\n",
    "    # compute avg recall at k\n",
    "    avg_recall_at_k = sum_recall_at_k/users_no\n",
    "    metrics = {\"users_w_recos\": users_no, \"cold_start_users\": cold_start_users}\n",
    "    metrics[\"avg_p_at_k\"] = avg_p_at_k\n",
    "    metrics[\"avg_recall_at_k\"] = avg_recall_at_k\n",
    "    return metrics"
   ]
  },
  {
   "cell_type": "markdown",
   "metadata": {},
   "source": [
    "## Compute metrics for different no of neighbors"
   ]
  },
  {
   "cell_type": "code",
   "execution_count": 37,
   "metadata": {},
   "outputs": [
    {
     "name": "stderr",
     "output_type": "stream",
     "text": [
      " 99%|█████████▉| 2042/2056 [00:00<00:00, 102798.61it/s]\n",
      " 99%|█████████▉| 2042/2056 [00:00<00:00, 139979.22it/s]\n",
      " 99%|█████████▉| 2042/2056 [00:00<00:00, 90330.42it/s]\n",
      " 99%|█████████▉| 2042/2056 [00:00<00:00, 98490.90it/s]\n",
      " 99%|█████████▉| 2042/2056 [00:00<00:00, 67879.54it/s]\n",
      " 99%|█████████▉| 2042/2056 [00:00<00:00, 82351.96it/s]\n",
      " 99%|█████████▉| 2042/2056 [00:00<00:00, 80797.42it/s]\n",
      " 99%|█████████▉| 2042/2056 [00:00<00:00, 67406.22it/s]\n",
      " 99%|█████████▉| 2042/2056 [00:00<00:00, 75034.77it/s]\n"
     ]
    }
   ],
   "source": [
    "als_metrics = {}\n",
    "\n",
    "for k in range(1, 10):\n",
    "    als_metrics[k] = compute_metrics(user_recommendations, user_labels, k)"
   ]
  },
  {
   "cell_type": "code",
   "execution_count": 38,
   "metadata": {},
   "outputs": [
    {
     "name": "stdout",
     "output_type": "stream",
     "text": [
      "No of users with recos: 2042, No of cold users: 14\n",
      "avg_p_at_1: 2.15%, avg_recall_at_1: 0.04%\n",
      "No of users with recos: 2042, No of cold users: 14\n",
      "avg_p_at_2: 2.11%, avg_recall_at_2: 0.07%\n",
      "No of users with recos: 2042, No of cold users: 14\n",
      "avg_p_at_3: 2.09%, avg_recall_at_3: 0.13%\n",
      "No of users with recos: 2042, No of cold users: 14\n",
      "avg_p_at_4: 1.97%, avg_recall_at_4: 0.16%\n",
      "No of users with recos: 2042, No of cold users: 14\n",
      "avg_p_at_5: 2.04%, avg_recall_at_5: 0.21%\n",
      "No of users with recos: 2042, No of cold users: 14\n",
      "avg_p_at_6: 2.01%, avg_recall_at_6: 0.24%\n",
      "No of users with recos: 2042, No of cold users: 14\n",
      "avg_p_at_7: 1.92%, avg_recall_at_7: 0.26%\n",
      "No of users with recos: 2042, No of cold users: 14\n",
      "avg_p_at_8: 1.88%, avg_recall_at_8: 0.28%\n",
      "No of users with recos: 2042, No of cold users: 14\n",
      "avg_p_at_9: 1.86%, avg_recall_at_9: 0.3%\n"
     ]
    }
   ],
   "source": [
    "for k in range(1, 10):\n",
    "    print(\"No of users with recos: {}, No of cold users: {}\".format(als_metrics[k]['users_w_recos'], \n",
    "                                                                    als_metrics[k]['cold_start_users']))\n",
    "    print(\"avg_p_at_{}: {}%, avg_recall_at_{}: {}%\".format(k, round(100*als_metrics[k]['avg_p_at_k'], 2), \n",
    "                                                           k, round(100*als_metrics[k]['avg_recall_at_k'],2)))"
   ]
  },
  {
   "cell_type": "code",
   "execution_count": 21,
   "metadata": {},
   "outputs": [
    {
     "name": "stderr",
     "output_type": "stream",
     "text": [
      " 99%|█████████▉| 2042/2056 [00:00<00:00, 635321.47it/s]"
     ]
    },
    {
     "name": "stdout",
     "output_type": "stream",
     "text": [
      "No of users with recos: 2042 & no of cold users: 14\n"
     ]
    },
    {
     "name": "stderr",
     "output_type": "stream",
     "text": [
      "\n"
     ]
    }
   ],
   "source": [
    "user_stats = metrics.compute_basic_stats(user_recommendations, user_labels)\n",
    "print(\"No of users with recos: {} & no of cold users: {}\".format(user_stats['users_w_recos'], \n",
    "            user_stats['cold_start_users']))"
   ]
  },
  {
   "cell_type": "code",
   "execution_count": 24,
   "metadata": {},
   "outputs": [
    {
     "name": "stderr",
     "output_type": "stream",
     "text": [
      "100%|██████████| 2056/2056 [00:00<00:00, 81166.07it/s]\n",
      "100%|██████████| 2056/2056 [00:00<00:00, 110668.22it/s]\n",
      "100%|██████████| 2056/2056 [00:00<00:00, 104881.83it/s]\n",
      "100%|██████████| 2056/2056 [00:00<00:00, 96416.47it/s]\n",
      "100%|██████████| 2056/2056 [00:00<00:00, 115071.91it/s]\n",
      "100%|██████████| 2056/2056 [00:00<00:00, 101480.27it/s]\n",
      "100%|██████████| 2056/2056 [00:00<00:00, 104657.80it/s]\n",
      "100%|██████████| 2056/2056 [00:00<00:00, 109899.56it/s]\n",
      "100%|██████████| 2056/2056 [00:00<00:00, 93288.43it/s]\n",
      "  0%|          | 0/2056 [00:00<?, ?it/s]"
     ]
    },
    {
     "name": "stdout",
     "output_type": "stream",
     "text": [
      "avg_p_at_1: 2.2%, avg_recall_at_1: 0.05%\n",
      "avg_p_at_2: 1.93%, avg_recall_at_2: 0.07%\n",
      "avg_p_at_3: 1.84%, avg_recall_at_3: 0.12%\n",
      "avg_p_at_4: 1.91%, avg_recall_at_4: 0.16%\n",
      "avg_p_at_5: 1.94%, avg_recall_at_5: 0.2%\n",
      "avg_p_at_6: 1.97%, avg_recall_at_6: 0.24%\n",
      "avg_p_at_7: 1.92%, avg_recall_at_7: 0.26%\n",
      "avg_p_at_8: 1.91%, avg_recall_at_8: 0.29%\n",
      "avg_p_at_9: 1.88%, avg_recall_at_9: 0.3%\n"
     ]
    },
    {
     "name": "stderr",
     "output_type": "stream",
     "text": [
      "\r",
      "100%|██████████| 2056/2056 [00:00<00:00, 100824.14it/s]"
     ]
    },
    {
     "name": "stdout",
     "output_type": "stream",
     "text": [
      "avg_p_at_10: 1.82%, avg_recall_at_10: 0.32%\n"
     ]
    },
    {
     "name": "stderr",
     "output_type": "stream",
     "text": [
      "\n"
     ]
    }
   ],
   "source": [
    "avg_p, avg_rec = [], []\n",
    "\n",
    "for k in range(1, 11):\n",
    "    als_perf[k] = metrics.compute_precision_and_recall_at_k(user_recommendations, user_labels, k)\n",
    "    print(\"avg_p_at_{}: {}%, avg_recall_at_{}: {}%\".format(k, round(100*als_perf[k]['avg_p_at_k'], 2), \n",
    "                                                           k, round(100*als_perf[k]['avg_recall_at_k'],2)))\n",
    "    avg_p.append(round(100*als_perf[k]['avg_p_at_k'], 2))\n",
    "    avg_rec.append(round(100*als_perf[k]['avg_recall_at_k'], 2))"
   ]
  },
  {
   "cell_type": "code",
   "execution_count": 23,
   "metadata": {},
   "outputs": [
    {
     "name": "stdout",
     "output_type": "stream",
     "text": [
      "Collecting matplotlib\n",
      "  Using cached matplotlib-3.3.3-cp36-cp36m-macosx_10_9_x86_64.whl (8.5 MB)\n",
      "Collecting cycler>=0.10\n",
      "  Using cached cycler-0.10.0-py2.py3-none-any.whl (6.5 kB)\n",
      "Requirement already satisfied, skipping upgrade: pyparsing!=2.0.4,!=2.1.2,!=2.1.6,>=2.0.3 in /anaconda/envs/recom/lib/python3.6/site-packages (from matplotlib) (2.4.7)\n",
      "Collecting pillow>=6.2.0\n",
      "  Downloading Pillow-8.1.0-cp36-cp36m-macosx_10_10_x86_64.whl (2.2 MB)\n",
      "\u001b[K     |████████████████████████████████| 2.2 MB 2.0 MB/s eta 0:00:01\n",
      "\u001b[?25hRequirement already satisfied, skipping upgrade: numpy>=1.15 in /anaconda/envs/recom/lib/python3.6/site-packages (from matplotlib) (1.19.2)\n",
      "Collecting kiwisolver>=1.0.1\n",
      "  Using cached kiwisolver-1.3.1-cp36-cp36m-macosx_10_9_x86_64.whl (61 kB)\n",
      "Requirement already satisfied, skipping upgrade: python-dateutil>=2.1 in /anaconda/envs/recom/lib/python3.6/site-packages (from matplotlib) (2.8.1)\n",
      "Requirement already satisfied, skipping upgrade: six in /anaconda/envs/recom/lib/python3.6/site-packages (from cycler>=0.10->matplotlib) (1.15.0)\n",
      "Installing collected packages: cycler, pillow, kiwisolver, matplotlib\n",
      "Successfully installed cycler-0.10.0 kiwisolver-1.3.1 matplotlib-3.3.3 pillow-8.1.0\n"
     ]
    }
   ],
   "source": [
    "! pip install -U matplotlib"
   ]
  },
  {
   "cell_type": "code",
   "execution_count": 26,
   "metadata": {},
   "outputs": [],
   "source": [
    "import matplotlib.pyplot as plt"
   ]
  },
  {
   "cell_type": "code",
   "execution_count": 30,
   "metadata": {},
   "outputs": [
    {
     "data": {
      "image/png": "[encoded data removed]",
      "text/plain": [
       "<Figure size 432x288 with 1 Axes>"
      ]
     },
     "metadata": {
      "needs_background": "light"
     },
     "output_type": "display_data"
    }
   ],
   "source": [
    "plt.plot(range(1,11), avg_p, 'ro-')\n",
    "# plt.axis([0, 6, 0, 20])\n",
    "plt.xlabel('K')\n",
    "plt.ylabel('P@K')\n",
    "plt.title('Precison@K in %')\n",
    "plt.show()"
   ]
  },
  {
   "cell_type": "code",
   "execution_count": 31,
   "metadata": {},
   "outputs": [
    {
     "data": {
      "image/png": "[encoded data removed]",
      "text/plain": [
       "<Figure size 432x288 with 1 Axes>"
      ]
     },
     "metadata": {
      "needs_background": "light"
     },
     "output_type": "display_data"
    }
   ],
   "source": [
    "plt.plot(range(1,11), avg_rec, 'bo-')\n",
    "# plt.axis([0, 6, 0, 20])\n",
    "plt.xlabel('K')\n",
    "plt.ylabel('R@K')\n",
    "plt.title('Recall@K in %')\n",
    "plt.show()"
   ]
  },
  {
   "cell_type": "code",
   "execution_count": null,
   "metadata": {},
   "outputs": [],
   "source": []
  }
 ],
 "metadata": {
  "kernelspec": {
   "display_name": "Python [conda env:recom] *",
   "language": "python",
   "name": "conda-env-recom-py"
  },
  "language_info": {
   "codemirror_mode": {
    "name": "ipython",
    "version": 3
   },
   "file_extension": ".py",
   "mimetype": "text/x-python",
   "name": "python",
   "nbconvert_exporter": "python",
   "pygments_lexer": "ipython3",
   "version": "3.6.12"
  }
 },
 "nbformat": 4,
 "nbformat_minor": 4
}
